{
 "cells": [
  {
   "cell_type": "markdown",
   "id": "ed7bfbad-6c03-4e84-8e83-423124aa2cef",
   "metadata": {},
   "source": [
    "# Predict Student Performance from Game Play 🎼"
   ]
  },
  {
   "cell_type": "markdown",
   "id": "5fb435ae-4bef-414d-bbe6-5ab88827f866",
   "metadata": {},
   "source": [
    "## Description"
   ]
  },
  {
   "cell_type": "markdown",
   "id": "594f8e1d-4e83-4261-96f0-652d77db4a70",
   "metadata": {},
   "source": [
    "The DS project is the Kaggle competition\n",
    "\n",
    "https://www.kaggle.com/competitions/predict-student-performance-from-game-play/overview"
   ]
  },
  {
   "cell_type": "markdown",
   "id": "52ddabd4-cef2-4d03-a47a-f2439adf0f56",
   "metadata": {},
   "source": [
    "**Goal**: to predict student perfomance during game-based learning in real-time.\n",
    "\n",
    "- **DS problem type**: binary classification, tabular data.\n",
    "\n",
    "- **Data type**: game logs (time series).\n",
    "\n",
    "- **Submission**:\n",
    "\n",
    "session_id / question number - binary label (correct/incorrect).\n",
    "\n",
    "*Example*:\n",
    "\n",
    "session_id,correct\n",
    "\n",
    "20090109393214576_q1,0\n",
    "\n",
    "20090312143683264_q1,0\n",
    "\n",
    "20090312331414616_q1,0\n",
    "\n",
    "- **Evaluation**: F1-score\n",
    "$$\n",
    "F1 = \\frac{2*Precision*Recall}{Precision+Recall} = \\frac{2*TP}{2*TP+FP+FN}\n",
    "$$"
   ]
  },
  {
   "cell_type": "markdown",
   "id": "6fd3d599-a663-44ea-b858-521434efb0b6",
   "metadata": {},
   "source": [
    "### Dataset description"
   ]
  },
  {
   "cell_type": "markdown",
   "id": "92aab0ed-64e3-4201-a0ea-819b91a98eb5",
   "metadata": {},
   "source": [
    "3 checkpoints:\n",
    "- 📌 level 4\n",
    "- 📌 level 12\n",
    "- 📌 level 22\n",
    "\n",
    "At each checkpoint we have access to all previous test data.\n",
    "\n",
    "**18** questions for each sessions.\n",
    "\n",
    "**Data format**:<br>\n",
    "rows:<br>\n",
    "`session_id`_`question #`\n",
    "\n",
    "18 rows (questions) for each session\n",
    "\n",
    "**To predict correctness of each segment**:\n",
    "\n",
    "3 segments:\n",
    "- 📌 0-4\n",
    "- 📌 5-12\n",
    "- 📌 13-22"
   ]
  },
  {
   "cell_type": "markdown",
   "id": "ad260e39-b86c-4581-bc55-7d5bc8183035",
   "metadata": {},
   "source": [
    "#### Files\n",
    "\n",
    "- `train.csv` - the training set\n",
    "- `test.csv` - the test set\n",
    "- `sample_submission.csv` - a sample submission file in the correct format\n",
    "- `train_labels.csv` - correct value for all 18 questions for each session in the training set\n",
    "\n",
    "#### Columns\n",
    "\n",
    "- `session_id` - the ID of the session the event took place in\n",
    "- `index` - the index of the event for the session\n",
    "- `elapsed_time` - how much time has passed (in milliseconds) between the start of the session and when the event was recorded\n",
    "- `event_name` - the name of the event type\n",
    "- `name` - the event name (e.g. identifies whether a notebook_click is is opening or closing the notebook)\n",
    "- `level` - what level of the game the event occurred in (0 to 22)\n",
    "- `page` - the page number of the event (only for notebook-related events)\n",
    "- `room_coor_x` - the coordinates of the click in reference to the in-game room (only for click events)\n",
    "- `room_coor_y` - the coordinates of the click in reference to the in-game room (only for click events)\n",
    "- `screen_coor_x` - the coordinates of the click in reference to the player’s screen (only for click events)\n",
    "- `screen_coor_y` - the coordinates of the click in reference to the player’s screen (only for click events)\n",
    "- `hover_duration` - how long (in milliseconds) the hover happened for (only for hover events)\n",
    "- `text` - the text the player sees during this event\n",
    "- `fqid` - the fully qualified ID of the event\n",
    "- `room_fqid` - the fully qualified ID of the room the event took place in\n",
    "- `text_fqid` - the fully qualified ID of the text\n",
    "- `fullscreen` - whether the player is in fullscreen mode\n",
    "- `hq` - whether the game is in high-quality\n",
    "- `music` - whether the game music is on or off\n",
    "- `level_group` - which group of levels - and group of questions - this row belongs to (0-4, 5-12, 13-22)\n"
   ]
  },
  {
   "cell_type": "markdown",
   "id": "531942ed-794f-4f03-b71b-3b425ad4f61c",
   "metadata": {},
   "source": [
    "## Download the dataset from Kaggle"
   ]
  },
  {
   "cell_type": "code",
   "execution_count": 15,
   "id": "489d6963-2770-4198-8db3-1c46c3306dce",
   "metadata": {},
   "outputs": [],
   "source": [
    "#!chmod 600 /Users/kuzmatsukanov/.kaggle/kaggle.json\n",
    "\n",
    "# Download\n",
    "#!kaggle competitions download -c predict-student-performance-from-game-play -p ./dataset\n",
    "\n",
    "# Unzip\n",
    "#!unzip dataset/predict-student-performance-from-game-play.zip -d ./dataset"
   ]
  },
  {
   "cell_type": "markdown",
   "id": "91e700a5-319d-48fb-8853-03577df308fe",
   "metadata": {},
   "source": [
    "## Import libraries"
   ]
  },
  {
   "cell_type": "code",
   "execution_count": 53,
   "id": "7880260c-5db9-4c5f-8e2b-e1b1551fd76b",
   "metadata": {
    "execution": {
     "iopub.execute_input": "2023-03-23T17:57:14.611060Z",
     "iopub.status.busy": "2023-03-23T17:57:14.610712Z",
     "iopub.status.idle": "2023-03-23T17:57:14.618553Z",
     "shell.execute_reply": "2023-03-23T17:57:14.617748Z",
     "shell.execute_reply.started": "2023-03-23T17:57:14.611031Z"
    },
    "tags": []
   },
   "outputs": [],
   "source": [
    "import pandas as pd\n",
    "import matplotlib.pyplot as plt\n",
    "import seaborn as sns\n",
    "sns.set_palette(sns.color_palette(\"colorblind\"))"
   ]
  },
  {
   "cell_type": "markdown",
   "id": "91381218-65b1-4e06-83be-4517e1da5836",
   "metadata": {},
   "source": [
    "## Load data"
   ]
  },
  {
   "cell_type": "code",
   "execution_count": 21,
   "id": "77ddbf69-d6a3-4838-be3d-53b5a6030994",
   "metadata": {
    "execution": {
     "iopub.execute_input": "2023-03-23T16:28:30.857535Z",
     "iopub.status.busy": "2023-03-23T16:28:30.857120Z",
     "iopub.status.idle": "2023-03-23T16:28:31.189226Z",
     "shell.execute_reply": "2023-03-23T16:28:31.188123Z",
     "shell.execute_reply.started": "2023-03-23T16:28:30.857503Z"
    }
   },
   "outputs": [],
   "source": [
    "df_labels = pd.read_csv('dataset/train_labels.csv')\n",
    "df_train = pd.read_csv('dataset/train.csv')"
   ]
  },
  {
   "cell_type": "markdown",
   "id": "4f075b10-575d-4adb-bd63-c2470ce352ed",
   "metadata": {},
   "source": [
    "## Exploratory Data Analysis"
   ]
  },
  {
   "cell_type": "code",
   "execution_count": 110,
   "id": "b843b398-8428-4f4d-83c0-725339b53a08",
   "metadata": {
    "tags": []
   },
   "outputs": [
    {
     "name": "stdout",
     "output_type": "stream",
     "text": [
      "In train set\n",
      "Number of samples: 26296946\n",
      "Number of features: 20\n",
      "Number of labeled data: 424116\n"
     ]
    }
   ],
   "source": [
    "print('In train set')\n",
    "print('Number of samples: {}'.format(df_train.shape[0]))\n",
    "print('Number of features: {}'.format(df_train.shape[1]))\n",
    "print('Number of labeled data: {}'.format(df_labels.shape[0]))"
   ]
  },
  {
   "cell_type": "code",
   "execution_count": 20,
   "id": "1627cfee-ac33-4079-a983-0c190cc3d4cd",
   "metadata": {
    "execution": {
     "iopub.execute_input": "2023-03-23T16:27:56.795852Z",
     "iopub.status.busy": "2023-03-23T16:27:56.795487Z",
     "iopub.status.idle": "2023-03-23T16:27:56.828431Z",
     "shell.execute_reply": "2023-03-23T16:27:56.827332Z",
     "shell.execute_reply.started": "2023-03-23T16:27:56.795826Z"
    },
    "tags": []
   },
   "outputs": [
    {
     "data": {
      "text/html": [
       "<div>\n",
       "<style scoped>\n",
       "    .dataframe tbody tr th:only-of-type {\n",
       "        vertical-align: middle;\n",
       "    }\n",
       "\n",
       "    .dataframe tbody tr th {\n",
       "        vertical-align: top;\n",
       "    }\n",
       "\n",
       "    .dataframe thead th {\n",
       "        text-align: right;\n",
       "    }\n",
       "</style>\n",
       "<table border=\"1\" class=\"dataframe\">\n",
       "  <thead>\n",
       "    <tr style=\"text-align: right;\">\n",
       "      <th></th>\n",
       "      <th>session_id</th>\n",
       "      <th>index</th>\n",
       "      <th>elapsed_time</th>\n",
       "      <th>event_name</th>\n",
       "      <th>name</th>\n",
       "      <th>level</th>\n",
       "      <th>page</th>\n",
       "      <th>room_coor_x</th>\n",
       "      <th>room_coor_y</th>\n",
       "      <th>screen_coor_x</th>\n",
       "      <th>screen_coor_y</th>\n",
       "      <th>hover_duration</th>\n",
       "      <th>text</th>\n",
       "      <th>fqid</th>\n",
       "      <th>room_fqid</th>\n",
       "      <th>text_fqid</th>\n",
       "      <th>fullscreen</th>\n",
       "      <th>hq</th>\n",
       "      <th>music</th>\n",
       "      <th>level_group</th>\n",
       "    </tr>\n",
       "  </thead>\n",
       "  <tbody>\n",
       "    <tr>\n",
       "      <th>0</th>\n",
       "      <td>20090312431273200</td>\n",
       "      <td>0</td>\n",
       "      <td>0</td>\n",
       "      <td>cutscene_click</td>\n",
       "      <td>basic</td>\n",
       "      <td>0</td>\n",
       "      <td>NaN</td>\n",
       "      <td>-413.991405</td>\n",
       "      <td>-159.314686</td>\n",
       "      <td>380.0</td>\n",
       "      <td>494.0</td>\n",
       "      <td>NaN</td>\n",
       "      <td>undefined</td>\n",
       "      <td>intro</td>\n",
       "      <td>tunic.historicalsociety.closet</td>\n",
       "      <td>tunic.historicalsociety.closet.intro</td>\n",
       "      <td>0</td>\n",
       "      <td>0</td>\n",
       "      <td>1</td>\n",
       "      <td>0-4</td>\n",
       "    </tr>\n",
       "    <tr>\n",
       "      <th>1</th>\n",
       "      <td>20090312431273200</td>\n",
       "      <td>1</td>\n",
       "      <td>1323</td>\n",
       "      <td>person_click</td>\n",
       "      <td>basic</td>\n",
       "      <td>0</td>\n",
       "      <td>NaN</td>\n",
       "      <td>-413.991405</td>\n",
       "      <td>-159.314686</td>\n",
       "      <td>380.0</td>\n",
       "      <td>494.0</td>\n",
       "      <td>NaN</td>\n",
       "      <td>Whatcha doing over there, Jo?</td>\n",
       "      <td>gramps</td>\n",
       "      <td>tunic.historicalsociety.closet</td>\n",
       "      <td>tunic.historicalsociety.closet.gramps.intro_0_...</td>\n",
       "      <td>0</td>\n",
       "      <td>0</td>\n",
       "      <td>1</td>\n",
       "      <td>0-4</td>\n",
       "    </tr>\n",
       "    <tr>\n",
       "      <th>2</th>\n",
       "      <td>20090312431273200</td>\n",
       "      <td>2</td>\n",
       "      <td>831</td>\n",
       "      <td>person_click</td>\n",
       "      <td>basic</td>\n",
       "      <td>0</td>\n",
       "      <td>NaN</td>\n",
       "      <td>-413.991405</td>\n",
       "      <td>-159.314686</td>\n",
       "      <td>380.0</td>\n",
       "      <td>494.0</td>\n",
       "      <td>NaN</td>\n",
       "      <td>Just talking to Teddy.</td>\n",
       "      <td>gramps</td>\n",
       "      <td>tunic.historicalsociety.closet</td>\n",
       "      <td>tunic.historicalsociety.closet.gramps.intro_0_...</td>\n",
       "      <td>0</td>\n",
       "      <td>0</td>\n",
       "      <td>1</td>\n",
       "      <td>0-4</td>\n",
       "    </tr>\n",
       "    <tr>\n",
       "      <th>3</th>\n",
       "      <td>20090312431273200</td>\n",
       "      <td>3</td>\n",
       "      <td>1147</td>\n",
       "      <td>person_click</td>\n",
       "      <td>basic</td>\n",
       "      <td>0</td>\n",
       "      <td>NaN</td>\n",
       "      <td>-413.991405</td>\n",
       "      <td>-159.314686</td>\n",
       "      <td>380.0</td>\n",
       "      <td>494.0</td>\n",
       "      <td>NaN</td>\n",
       "      <td>I gotta run to my meeting!</td>\n",
       "      <td>gramps</td>\n",
       "      <td>tunic.historicalsociety.closet</td>\n",
       "      <td>tunic.historicalsociety.closet.gramps.intro_0_...</td>\n",
       "      <td>0</td>\n",
       "      <td>0</td>\n",
       "      <td>1</td>\n",
       "      <td>0-4</td>\n",
       "    </tr>\n",
       "    <tr>\n",
       "      <th>4</th>\n",
       "      <td>20090312431273200</td>\n",
       "      <td>4</td>\n",
       "      <td>1863</td>\n",
       "      <td>person_click</td>\n",
       "      <td>basic</td>\n",
       "      <td>0</td>\n",
       "      <td>NaN</td>\n",
       "      <td>-412.991405</td>\n",
       "      <td>-159.314686</td>\n",
       "      <td>381.0</td>\n",
       "      <td>494.0</td>\n",
       "      <td>NaN</td>\n",
       "      <td>Can I come, Gramps?</td>\n",
       "      <td>gramps</td>\n",
       "      <td>tunic.historicalsociety.closet</td>\n",
       "      <td>tunic.historicalsociety.closet.gramps.intro_0_...</td>\n",
       "      <td>0</td>\n",
       "      <td>0</td>\n",
       "      <td>1</td>\n",
       "      <td>0-4</td>\n",
       "    </tr>\n",
       "  </tbody>\n",
       "</table>\n",
       "</div>"
      ],
      "text/plain": [
       "          session_id  index  elapsed_time      event_name   name  level  page  \\\n",
       "0  20090312431273200      0             0  cutscene_click  basic      0   NaN   \n",
       "1  20090312431273200      1          1323    person_click  basic      0   NaN   \n",
       "2  20090312431273200      2           831    person_click  basic      0   NaN   \n",
       "3  20090312431273200      3          1147    person_click  basic      0   NaN   \n",
       "4  20090312431273200      4          1863    person_click  basic      0   NaN   \n",
       "\n",
       "   room_coor_x  room_coor_y  screen_coor_x  screen_coor_y  hover_duration  \\\n",
       "0  -413.991405  -159.314686          380.0          494.0             NaN   \n",
       "1  -413.991405  -159.314686          380.0          494.0             NaN   \n",
       "2  -413.991405  -159.314686          380.0          494.0             NaN   \n",
       "3  -413.991405  -159.314686          380.0          494.0             NaN   \n",
       "4  -412.991405  -159.314686          381.0          494.0             NaN   \n",
       "\n",
       "                            text    fqid                       room_fqid  \\\n",
       "0                      undefined   intro  tunic.historicalsociety.closet   \n",
       "1  Whatcha doing over there, Jo?  gramps  tunic.historicalsociety.closet   \n",
       "2         Just talking to Teddy.  gramps  tunic.historicalsociety.closet   \n",
       "3     I gotta run to my meeting!  gramps  tunic.historicalsociety.closet   \n",
       "4            Can I come, Gramps?  gramps  tunic.historicalsociety.closet   \n",
       "\n",
       "                                           text_fqid  fullscreen  hq  music  \\\n",
       "0               tunic.historicalsociety.closet.intro           0   0      1   \n",
       "1  tunic.historicalsociety.closet.gramps.intro_0_...           0   0      1   \n",
       "2  tunic.historicalsociety.closet.gramps.intro_0_...           0   0      1   \n",
       "3  tunic.historicalsociety.closet.gramps.intro_0_...           0   0      1   \n",
       "4  tunic.historicalsociety.closet.gramps.intro_0_...           0   0      1   \n",
       "\n",
       "  level_group  \n",
       "0         0-4  \n",
       "1         0-4  \n",
       "2         0-4  \n",
       "3         0-4  \n",
       "4         0-4  "
      ]
     },
     "execution_count": 20,
     "metadata": {},
     "output_type": "execute_result"
    }
   ],
   "source": [
    "df_train.head(5)"
   ]
  },
  {
   "cell_type": "code",
   "execution_count": 23,
   "id": "cd9a7e64-5b14-4081-891f-5b9070e839fe",
   "metadata": {
    "execution": {
     "iopub.execute_input": "2023-03-23T16:32:33.118979Z",
     "iopub.status.busy": "2023-03-23T16:32:33.118492Z",
     "iopub.status.idle": "2023-03-23T16:33:03.136309Z",
     "shell.execute_reply": "2023-03-23T16:33:03.134238Z",
     "shell.execute_reply.started": "2023-03-23T16:32:33.118913Z"
    }
   },
   "outputs": [
    {
     "data": {
      "text/html": [
       "<div>\n",
       "<style scoped>\n",
       "    .dataframe tbody tr th:only-of-type {\n",
       "        vertical-align: middle;\n",
       "    }\n",
       "\n",
       "    .dataframe tbody tr th {\n",
       "        vertical-align: top;\n",
       "    }\n",
       "\n",
       "    .dataframe thead th {\n",
       "        text-align: right;\n",
       "    }\n",
       "</style>\n",
       "<table border=\"1\" class=\"dataframe\">\n",
       "  <thead>\n",
       "    <tr style=\"text-align: right;\">\n",
       "      <th></th>\n",
       "      <th>session_id</th>\n",
       "      <th>index</th>\n",
       "      <th>elapsed_time</th>\n",
       "      <th>level</th>\n",
       "      <th>page</th>\n",
       "      <th>room_coor_x</th>\n",
       "      <th>room_coor_y</th>\n",
       "      <th>screen_coor_x</th>\n",
       "      <th>screen_coor_y</th>\n",
       "      <th>hover_duration</th>\n",
       "      <th>fullscreen</th>\n",
       "      <th>hq</th>\n",
       "      <th>music</th>\n",
       "    </tr>\n",
       "  </thead>\n",
       "  <tbody>\n",
       "    <tr>\n",
       "      <th>count</th>\n",
       "      <td>2.629695e+07</td>\n",
       "      <td>2.629695e+07</td>\n",
       "      <td>2.629695e+07</td>\n",
       "      <td>2.629695e+07</td>\n",
       "      <td>564544.000000</td>\n",
       "      <td>2.422367e+07</td>\n",
       "      <td>2.422367e+07</td>\n",
       "      <td>2.422367e+07</td>\n",
       "      <td>2.422367e+07</td>\n",
       "      <td>2.002244e+06</td>\n",
       "      <td>2.629695e+07</td>\n",
       "      <td>2.629695e+07</td>\n",
       "      <td>2.629695e+07</td>\n",
       "    </tr>\n",
       "    <tr>\n",
       "      <th>mean</th>\n",
       "      <td>2.113249e+16</td>\n",
       "      <td>6.445102e+02</td>\n",
       "      <td>4.016694e+06</td>\n",
       "      <td>1.219169e+01</td>\n",
       "      <td>3.166559</td>\n",
       "      <td>-5.490579e+01</td>\n",
       "      <td>-1.162119e+02</td>\n",
       "      <td>4.584098e+02</td>\n",
       "      <td>3.855860e+02</td>\n",
       "      <td>3.471003e+03</td>\n",
       "      <td>1.370037e-01</td>\n",
       "      <td>1.202047e-01</td>\n",
       "      <td>9.293778e-01</td>\n",
       "    </tr>\n",
       "    <tr>\n",
       "      <th>std</th>\n",
       "      <td>5.712953e+14</td>\n",
       "      <td>5.457880e+02</td>\n",
       "      <td>3.127032e+07</td>\n",
       "      <td>6.497789e+00</td>\n",
       "      <td>2.063291</td>\n",
       "      <td>5.202926e+02</td>\n",
       "      <td>2.184710e+02</td>\n",
       "      <td>2.479389e+02</td>\n",
       "      <td>1.298166e+02</td>\n",
       "      <td>4.602024e+05</td>\n",
       "      <td>3.438513e-01</td>\n",
       "      <td>3.252008e-01</td>\n",
       "      <td>2.561926e-01</td>\n",
       "    </tr>\n",
       "    <tr>\n",
       "      <th>min</th>\n",
       "      <td>2.009031e+16</td>\n",
       "      <td>0.000000e+00</td>\n",
       "      <td>0.000000e+00</td>\n",
       "      <td>0.000000e+00</td>\n",
       "      <td>0.000000</td>\n",
       "      <td>-1.992355e+03</td>\n",
       "      <td>-9.181623e+02</td>\n",
       "      <td>0.000000e+00</td>\n",
       "      <td>0.000000e+00</td>\n",
       "      <td>0.000000e+00</td>\n",
       "      <td>0.000000e+00</td>\n",
       "      <td>0.000000e+00</td>\n",
       "      <td>0.000000e+00</td>\n",
       "    </tr>\n",
       "    <tr>\n",
       "      <th>25%</th>\n",
       "      <td>2.101022e+16</td>\n",
       "      <td>2.880000e+02</td>\n",
       "      <td>4.397000e+05</td>\n",
       "      <td>6.000000e+00</td>\n",
       "      <td>1.000000</td>\n",
       "      <td>-3.528395e+02</td>\n",
       "      <td>-2.127183e+02</td>\n",
       "      <td>2.690000e+02</td>\n",
       "      <td>3.040000e+02</td>\n",
       "      <td>9.900000e+01</td>\n",
       "      <td>0.000000e+00</td>\n",
       "      <td>0.000000e+00</td>\n",
       "      <td>1.000000e+00</td>\n",
       "    </tr>\n",
       "    <tr>\n",
       "      <th>50%</th>\n",
       "      <td>2.104021e+16</td>\n",
       "      <td>5.950000e+02</td>\n",
       "      <td>1.014801e+06</td>\n",
       "      <td>1.300000e+01</td>\n",
       "      <td>3.000000</td>\n",
       "      <td>-1.116280e+01</td>\n",
       "      <td>-9.760534e+01</td>\n",
       "      <td>4.470000e+02</td>\n",
       "      <td>3.970000e+02</td>\n",
       "      <td>4.190000e+02</td>\n",
       "      <td>0.000000e+00</td>\n",
       "      <td>0.000000e+00</td>\n",
       "      <td>1.000000e+00</td>\n",
       "    </tr>\n",
       "    <tr>\n",
       "      <th>75%</th>\n",
       "      <td>2.110052e+16</td>\n",
       "      <td>8.960000e+02</td>\n",
       "      <td>1.747040e+06</td>\n",
       "      <td>1.800000e+01</td>\n",
       "      <td>5.000000</td>\n",
       "      <td>2.966515e+02</td>\n",
       "      <td>2.268786e+01</td>\n",
       "      <td>6.630000e+02</td>\n",
       "      <td>4.710000e+02</td>\n",
       "      <td>1.266000e+03</td>\n",
       "      <td>0.000000e+00</td>\n",
       "      <td>0.000000e+00</td>\n",
       "      <td>1.000000e+00</td>\n",
       "    </tr>\n",
       "    <tr>\n",
       "      <th>max</th>\n",
       "      <td>2.210022e+16</td>\n",
       "      <td>2.047300e+04</td>\n",
       "      <td>1.988607e+09</td>\n",
       "      <td>2.200000e+01</td>\n",
       "      <td>6.000000</td>\n",
       "      <td>1.261774e+03</td>\n",
       "      <td>5.436164e+02</td>\n",
       "      <td>1.919000e+03</td>\n",
       "      <td>1.440000e+03</td>\n",
       "      <td>2.451637e+08</td>\n",
       "      <td>1.000000e+00</td>\n",
       "      <td>1.000000e+00</td>\n",
       "      <td>1.000000e+00</td>\n",
       "    </tr>\n",
       "  </tbody>\n",
       "</table>\n",
       "</div>"
      ],
      "text/plain": [
       "         session_id         index  elapsed_time         level           page  \\\n",
       "count  2.629695e+07  2.629695e+07  2.629695e+07  2.629695e+07  564544.000000   \n",
       "mean   2.113249e+16  6.445102e+02  4.016694e+06  1.219169e+01       3.166559   \n",
       "std    5.712953e+14  5.457880e+02  3.127032e+07  6.497789e+00       2.063291   \n",
       "min    2.009031e+16  0.000000e+00  0.000000e+00  0.000000e+00       0.000000   \n",
       "25%    2.101022e+16  2.880000e+02  4.397000e+05  6.000000e+00       1.000000   \n",
       "50%    2.104021e+16  5.950000e+02  1.014801e+06  1.300000e+01       3.000000   \n",
       "75%    2.110052e+16  8.960000e+02  1.747040e+06  1.800000e+01       5.000000   \n",
       "max    2.210022e+16  2.047300e+04  1.988607e+09  2.200000e+01       6.000000   \n",
       "\n",
       "        room_coor_x   room_coor_y  screen_coor_x  screen_coor_y  \\\n",
       "count  2.422367e+07  2.422367e+07   2.422367e+07   2.422367e+07   \n",
       "mean  -5.490579e+01 -1.162119e+02   4.584098e+02   3.855860e+02   \n",
       "std    5.202926e+02  2.184710e+02   2.479389e+02   1.298166e+02   \n",
       "min   -1.992355e+03 -9.181623e+02   0.000000e+00   0.000000e+00   \n",
       "25%   -3.528395e+02 -2.127183e+02   2.690000e+02   3.040000e+02   \n",
       "50%   -1.116280e+01 -9.760534e+01   4.470000e+02   3.970000e+02   \n",
       "75%    2.966515e+02  2.268786e+01   6.630000e+02   4.710000e+02   \n",
       "max    1.261774e+03  5.436164e+02   1.919000e+03   1.440000e+03   \n",
       "\n",
       "       hover_duration    fullscreen            hq         music  \n",
       "count    2.002244e+06  2.629695e+07  2.629695e+07  2.629695e+07  \n",
       "mean     3.471003e+03  1.370037e-01  1.202047e-01  9.293778e-01  \n",
       "std      4.602024e+05  3.438513e-01  3.252008e-01  2.561926e-01  \n",
       "min      0.000000e+00  0.000000e+00  0.000000e+00  0.000000e+00  \n",
       "25%      9.900000e+01  0.000000e+00  0.000000e+00  1.000000e+00  \n",
       "50%      4.190000e+02  0.000000e+00  0.000000e+00  1.000000e+00  \n",
       "75%      1.266000e+03  0.000000e+00  0.000000e+00  1.000000e+00  \n",
       "max      2.451637e+08  1.000000e+00  1.000000e+00  1.000000e+00  "
      ]
     },
     "execution_count": 23,
     "metadata": {},
     "output_type": "execute_result"
    }
   ],
   "source": [
    "df_train.describe()"
   ]
  },
  {
   "cell_type": "code",
   "execution_count": 24,
   "id": "8a89eca6-b0f0-4ee0-bac9-e0edab8b53ed",
   "metadata": {
    "execution": {
     "iopub.execute_input": "2023-03-23T16:35:08.231936Z",
     "iopub.status.busy": "2023-03-23T16:35:08.227786Z",
     "iopub.status.idle": "2023-03-23T16:35:44.568421Z",
     "shell.execute_reply": "2023-03-23T16:35:44.564358Z",
     "shell.execute_reply.started": "2023-03-23T16:35:08.231843Z"
    }
   },
   "outputs": [],
   "source": [
    "# Get a Series of count of unique values in each column\n",
    "unique_values = df_train.nunique()"
   ]
  },
  {
   "cell_type": "code",
   "execution_count": 25,
   "id": "4ba27ec8-f7be-4652-9ccd-31750454b015",
   "metadata": {
    "execution": {
     "iopub.execute_input": "2023-03-23T16:35:51.655872Z",
     "iopub.status.busy": "2023-03-23T16:35:51.655422Z",
     "iopub.status.idle": "2023-03-23T16:35:51.682257Z",
     "shell.execute_reply": "2023-03-23T16:35:51.681350Z",
     "shell.execute_reply.started": "2023-03-23T16:35:51.655821Z"
    }
   },
   "outputs": [
    {
     "data": {
      "text/plain": [
       "session_id           23562\n",
       "index                20348\n",
       "elapsed_time       5042639\n",
       "event_name              11\n",
       "name                     6\n",
       "level                   23\n",
       "page                     7\n",
       "room_coor_x       17438693\n",
       "room_coor_y       13651023\n",
       "screen_coor_x        57924\n",
       "screen_coor_y       102591\n",
       "hover_duration       24101\n",
       "text                   597\n",
       "fqid                   128\n",
       "room_fqid               19\n",
       "text_fqid              126\n",
       "fullscreen               2\n",
       "hq                       2\n",
       "music                    2\n",
       "level_group              3\n",
       "dtype: int64"
      ]
     },
     "execution_count": 25,
     "metadata": {},
     "output_type": "execute_result"
    }
   ],
   "source": [
    "unique_values"
   ]
  },
  {
   "cell_type": "code",
   "execution_count": null,
   "id": "bb9dab96-c0f9-4b1e-b365-7248ddd88685",
   "metadata": {},
   "outputs": [],
   "source": []
  },
  {
   "cell_type": "markdown",
   "id": "dc436263-2a64-4790-8de3-81ea495567d7",
   "metadata": {},
   "source": [
    "### Missing values"
   ]
  },
  {
   "cell_type": "code",
   "execution_count": 42,
   "id": "1e9b4234-8482-4b8b-83fd-785840bcfc9c",
   "metadata": {
    "execution": {
     "iopub.execute_input": "2023-03-23T17:47:42.110194Z",
     "iopub.status.busy": "2023-03-23T17:47:42.109428Z",
     "iopub.status.idle": "2023-03-23T17:48:10.460881Z",
     "shell.execute_reply": "2023-03-23T17:48:10.457638Z",
     "shell.execute_reply.started": "2023-03-23T17:47:42.110161Z"
    },
    "tags": []
   },
   "outputs": [],
   "source": [
    "count_missing_values = df_train.isna().sum()\n",
    "count_missing_values = count_missing_values/df_train.shape[0]"
   ]
  },
  {
   "cell_type": "code",
   "execution_count": 76,
   "id": "d6159963-f604-45ee-bc79-8f9dd221f6b7",
   "metadata": {
    "tags": []
   },
   "outputs": [],
   "source": [
    "count_missing_values_df = pd.DataFrame(count_missing_values[count_missing_values != 0].sort_values(ascending=True),\n",
    "                                     columns=['Missing values']).round(2)"
   ]
  },
  {
   "cell_type": "code",
   "execution_count": 114,
   "id": "7a6b6dd7-91c8-4aea-a961-d85ec5f6386c",
   "metadata": {},
   "outputs": [
    {
     "data": {
      "image/png": "[encoded data removed]",
      "text/plain": [
       "<Figure size 350x250 with 1 Axes>"
      ]
     },
     "metadata": {},
     "output_type": "display_data"
    }
   ],
   "source": [
    "fig, ax = plt.subplots(figsize=(3.5, 2.5))\n",
    "\n",
    "bars = ax.barh(y=count_missing_values_df.index, width=count_missing_values_df['Missing values'])\n",
    "ax.bar_label(container=bars, padding=0.1)\n",
    "ax.margins(x=0.2)\n",
    "ax.set_xlabel('Missing values ratio')\n",
    "ax.set_title('Missing values in train set');"
   ]
  },
  {
   "cell_type": "code",
   "execution_count": null,
   "id": "eb2465eb-2fa2-4544-9a5e-a42e89c8b318",
   "metadata": {},
   "outputs": [],
   "source": []
  },
  {
   "cell_type": "code",
   "execution_count": null,
   "id": "64637f4d-6a83-4ef7-b267-96cb4e5c5404",
   "metadata": {},
   "outputs": [],
   "source": []
  }
 ],
 "metadata": {
  "kernelspec": {
   "display_name": "Python 3 (ipykernel)",
   "language": "python",
   "name": "python3"
  },
  "language_info": {
   "codemirror_mode": {
    "name": "ipython",
    "version": 3
   },
   "file_extension": ".py",
   "mimetype": "text/x-python",
   "name": "python",
   "nbconvert_exporter": "python",
   "pygments_lexer": "ipython3",
   "version": "3.9.12"
  }
 },
 "nbformat": 4,
 "nbformat_minor": 5
}
